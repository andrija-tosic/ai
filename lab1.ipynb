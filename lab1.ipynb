{
 "cells": [
  {
   "cell_type": "markdown",
   "metadata": {},
   "source": [
    "1. Korišćenjem programskog jezika Python, napisati sledeće funkcije:\n",
    "a. parni, koja određuje broj parnih elemenata zadate liste.\n",
    "Primer: parni([1, 7, 2, 4, 5]) = 2"
   ]
  },
  {
   "cell_type": "code",
   "execution_count": 30,
   "metadata": {},
   "outputs": [
    {
     "name": "stdout",
     "output_type": "stream",
     "text": [
      "2\n"
     ]
    }
   ],
   "source": [
    "def parni(lista):\n",
    "    return len(list(filter(lambda x: x % 2 == 0, lista)))\n",
    "\n",
    "print(parni([1, 7, 2, 4, 5]))"
   ]
  },
  {
   "cell_type": "markdown",
   "metadata": {},
   "source": [
    "2. Korišćenjem programskog jezika Python, napisati sledeće funkcije:\n",
    "a. numlista, koja iz liste koja može da sadrži elemente različitog tipa izdvaja samo numeričke\n",
    "vrednosti\n",
    "Primer: numlista([\"Prvi\", \"Drugi\", 2, 4, [3, 5]]) = [2, 4]"
   ]
  },
  {
   "cell_type": "code",
   "execution_count": 31,
   "metadata": {},
   "outputs": [
    {
     "name": "stdout",
     "output_type": "stream",
     "text": [
      "[2, 4]\n"
     ]
    }
   ],
   "source": [
    "def numlista(lista):\n",
    "    return [x for x in lista if type(x) in {int, float}]\n",
    "\n",
    "print(numlista([\"Prvi\", \"Drugi\", 2, 4, [3, 5]]))"
   ]
  },
  {
   "cell_type": "markdown",
   "metadata": {},
   "source": [
    "3. Korišćenjem programskog jezika Python, napisati sledeće funkcije:\n",
    "a. uredi, koja svaki od prvih n elemenata uvećava za definisanu vrednost a preostale umanjuje za\n",
    "definisanu vrednost. Funkciji se prosleđuje lista koja sadrži samo numeričke vrednosti i vrednost\n",
    "koja treba da se uvećava, odnosno umanjuje. Zabranjeno je korišćenje patlji.\n",
    "Primer: uredi([1, 2, 3, 4, 5], 3, 1) = [2, 3, 4, 3, 4]"
   ]
  },
  {
   "cell_type": "code",
   "execution_count": 32,
   "metadata": {},
   "outputs": [
    {
     "name": "stdout",
     "output_type": "stream",
     "text": [
      "[2, 3, 4, 3, 4]\n"
     ]
    }
   ],
   "source": [
    "def uredi(lista, n, vrednost):\n",
    "    return list(map(lambda x, i: x + vrednost if i < n else x - vrednost, lista, range(len(lista))))\n",
    "\n",
    "print(uredi([1, 2, 3, 4, 5], 3, 1))"
   ]
  },
  {
   "cell_type": "markdown",
   "metadata": {},
   "source": [
    "4. Korišćenjem programskog jezika Python, napisati sledeće funkcije:\n",
    "a. zbir, koja kreira novu listu čiji su elementi zbirovi susednih elementa liste.\n",
    "Primer: zbir([1, 2, 3, 4, 5]) = [3, 5, 7, 9]"
   ]
  },
  {
   "cell_type": "code",
   "execution_count": 33,
   "metadata": {},
   "outputs": [
    {
     "name": "stdout",
     "output_type": "stream",
     "text": [
      "[3, 5, 7, 9]\n"
     ]
    }
   ],
   "source": [
    "from itertools import pairwise\n",
    "\n",
    "\n",
    "def zbir(lista):\n",
    "    return [a+b for (a,b) in pairwise(lista)]\n",
    "\n",
    "print(zbir([1,2,3,4,5]))"
   ]
  },
  {
   "cell_type": "markdown",
   "metadata": {},
   "source": [
    "5. Korišćenjem programskog jezika Python, napisati sledeće funkcije:\n",
    "a. brojel, koja broji koliko elemenata ima svaka podlista liste koja joj je prosleđena. Ukoliko\n",
    "elemenat liste nije podlista funkcija vraća -1.\n",
    "Primer: brojel([1, 2], [3, 4, 5], 'el', ['1', 1]) = [2, 3, -1, 2]"
   ]
  },
  {
   "cell_type": "code",
   "execution_count": 34,
   "metadata": {},
   "outputs": [
    {
     "name": "stdout",
     "output_type": "stream",
     "text": [
      "[([1, 2], 2), ([3, 4, 5], 3), -1, (['1', 1], 2)]\n"
     ]
    }
   ],
   "source": [
    "def brojel(*lista):\n",
    "    return list(map(lambda x: (x, len(x)) if type(x) is list else -1, lista))\n",
    "\n",
    "print(brojel([1, 2], [3, 4, 5], 'el', ['1', 1]))"
   ]
  },
  {
   "cell_type": "markdown",
   "metadata": {},
   "source": [
    "6. Korišćenjem programskog jezika Python, napisati sledeće funkcije:\n",
    "a. razlika, koja prihvata dve liste (bilo kog tipa podataka), a ima povratnu vrednost koja je lista\n",
    "sastavljena od svih elemenata iz prve liste, koji se ne nalaze u drugoj listi.\n",
    "Primer: razlika([1, 4, 6, \"2\", \"6\"], [4, 5, \"2\"]) = [1, 6, \"6\"]\n"
   ]
  },
  {
   "cell_type": "code",
   "execution_count": 35,
   "metadata": {},
   "outputs": [
    {
     "name": "stdout",
     "output_type": "stream",
     "text": [
      "[1, 6, '6']\n"
     ]
    }
   ],
   "source": [
    "def razlika(lista1, lista2):\n",
    "    return [x for x in lista1 if x not in lista2]\n",
    "\n",
    "print(razlika([1, 4, 6, \"2\", \"6\"], [4, 5, \"2\"]))"
   ]
  },
  {
   "cell_type": "markdown",
   "metadata": {},
   "source": [
    "7. Korišćenjem programskog jezika Python, napisati sledeće funkcije:\n",
    "a. operacija, koja listu tuple vrednosti transformiše u listu brojeva, koji se dobijaju primenom\n",
    "operacije prosleđene putem argumenta.\n",
    "Primer: operacija([(1, 4, 6), (2, 4), (4, 1)], lambda x, y: x + y) = [11, 6, 5]"
   ]
  },
  {
   "cell_type": "code",
   "execution_count": 36,
   "metadata": {},
   "outputs": [
    {
     "name": "stdout",
     "output_type": "stream",
     "text": [
      "[11, 6, 5]\n"
     ]
    }
   ],
   "source": [
    "from functools import reduce\n",
    "\n",
    "def operacija(tuples_list, fun):\n",
    "    return list(map(lambda x: sum(x), tuples_list))\n",
    "\n",
    "print(operacija([(1, 4, 6), (2, 4), (4, 1)], lambda x, y: x + y))"
   ]
  },
  {
   "cell_type": "markdown",
   "metadata": {},
   "source": [
    "8. Korišćenjem programskog jezika Python, napisati sledeće funkcije:\n",
    "a. izmeni, koja svaki n-ti element liste zamenjuje brojem koji predstavlja sumu svih elemenata\n",
    "originalne liste, od prvog, do n-tog elementa.\n",
    "Primer: izmeni([1, 2, 4, 7, 9]) = [1, 3, 7, 14, 23]"
   ]
  },
  {
   "cell_type": "code",
   "execution_count": 37,
   "metadata": {},
   "outputs": [
    {
     "name": "stdout",
     "output_type": "stream",
     "text": [
      "[1, 3, 7, 14, 23]\n"
     ]
    }
   ],
   "source": [
    "def suma_prvih_n(lista, n):\n",
    "    return sum(lista[0:n])\n",
    "\n",
    "def izmeni(lista):\n",
    "    nova_lista = []\n",
    "    i = 1\n",
    "    for x in lista:\n",
    "        nova_lista.append(suma_prvih_n(lista, i))\n",
    "        i += 1\n",
    "    \n",
    "    return nova_lista\n",
    "    \n",
    "\n",
    "print(izmeni([1, 2, 4, 7, 9]))"
   ]
  },
  {
   "cell_type": "markdown",
   "metadata": {},
   "source": [
    "9. Korišćenjem programskog jezika Python, napisati sledeće funkcije:\n",
    "a. prosek, koja za svaki element prosleđene liste, koja se sastoji isključivo od podlisti, vraća\n",
    "aritmetičku sredinu svih njenih vrednosti.\n",
    "Primer: prosek([[1, 4, 6, 2], [4, 6, 2, 7], [3, 5], [5, 6, 2, 7]]) = [3.25, 4.75, 4.0,\n",
    "5.0]"
   ]
  },
  {
   "cell_type": "code",
   "execution_count": 38,
   "metadata": {},
   "outputs": [
    {
     "name": "stdout",
     "output_type": "stream",
     "text": [
      "[3.25, 4.75, 4.0, 5.0]\n"
     ]
    }
   ],
   "source": [
    "def prosek(liste):\n",
    "    return [sum(podlista)/len(podlista) for podlista in liste]\n",
    "\n",
    "print(prosek([[1, 4, 6, 2], [4, 6, 2, 7], [3, 5], [5, 6, 2, 7]]))"
   ]
  },
  {
   "cell_type": "markdown",
   "metadata": {},
   "source": [
    "10. Korišćenjem programskog jezika Python, napisati sledeće funkcije:\n",
    "a. izbroj, koja određuje broj elemenata liste, gde svaki element može da bude podlista ili broj.\n",
    "Zabranjeno je korišćenje petlji (osim u comprehension sintaksi).\n",
    "Primer: izbroj([1, [1, 3, [2, 4, 5, [5, 5], 4]], [2, 4], 4, 6]) = 13"
   ]
  },
  {
   "cell_type": "code",
   "execution_count": 39,
   "metadata": {},
   "outputs": [
    {
     "name": "stdout",
     "output_type": "stream",
     "text": [
      "13\n"
     ]
    }
   ],
   "source": [
    "from functools import reduce\n",
    "\n",
    "def izbroj(lista):\n",
    "    return reduce(lambda x, y: x + (1 if type(y) is not list else izbroj(y)), lista, 0)\n",
    "\n",
    "print(izbroj([1, [1, 3, [2, 4, 5, [5, 5], 4]], [2, 4], 4, 6]))"
   ]
  },
  {
   "cell_type": "markdown",
   "metadata": {},
   "source": [
    "11. Korišćenjem programskog jezika Python, napisati sledeće funkcije:\n",
    "a. razlika, koja kreira novu listu čiji su elementi razlika susednih elementa liste.\n",
    "Primer: razlika([8, 5, 3, 1, 1]) = [3, 2, 2, 0]"
   ]
  },
  {
   "cell_type": "code",
   "execution_count": 40,
   "metadata": {},
   "outputs": [
    {
     "name": "stdout",
     "output_type": "stream",
     "text": [
      "[3, 2, 2, 0]\n"
     ]
    }
   ],
   "source": [
    "from itertools import pairwise\n",
    "\n",
    "def razlika(lista):\n",
    "    return [a-b for (a,b) in pairwise(lista)]\n",
    "\n",
    "print(razlika([8, 5, 3, 1, 1]))"
   ]
  },
  {
   "cell_type": "markdown",
   "metadata": {},
   "source": [
    "12. Korišćenjem programskog jezika Python, napisati sledeće funkcije:\n",
    "a. presek, koja prihvata dve liste (bilo kog tipa podataka), a ima povratnu vrednost koja je lista\n",
    "sastavljena od svih elemenata koji se nalaze u obe liste.\n",
    "Primer: presek([5, 4, \"1\", \"8\", 3, 7], [1, 9, \"1\"]) = [1, \"1\"]"
   ]
  },
  {
   "cell_type": "code",
   "execution_count": 41,
   "metadata": {},
   "outputs": [
    {
     "name": "stdout",
     "output_type": "stream",
     "text": [
      "['1']\n"
     ]
    }
   ],
   "source": [
    "def presek(lista1, lista2):\n",
    "    return [x for x in lista1 if x in lista2]\n",
    "\n",
    "print(presek([5, 4, \"1\", \"8\", 3, 7], [1, 9, \"1\"]))"
   ]
  },
  {
   "cell_type": "markdown",
   "metadata": {},
   "source": [
    "13. Korišćenjem programskog jezika Python, napisati sledeće funkcije:\n",
    "a. izmeni, koja kreira novu listu tako da elemente na parnim pozicijama uvećava za jedan, dok\n",
    "elemente na neparnim pozicijama umanjuje za 1.\n",
    "Primer: izmeni([8, 5, 3, 1, 1]) = [9, 4, 4, 0, 2]"
   ]
  },
  {
   "cell_type": "code",
   "execution_count": 42,
   "metadata": {},
   "outputs": [
    {
     "name": "stdout",
     "output_type": "stream",
     "text": [
      "[9, 4, 4, 0, 2]\n"
     ]
    }
   ],
   "source": [
    "def izmeni(lista):\n",
    "    return list(map(lambda x, i: x-1 if i % 2 == 1 else x+1, lista, range(len(lista))))\n",
    "\n",
    "print(izmeni([8, 5, 3, 1, 1]))"
   ]
  },
  {
   "cell_type": "markdown",
   "metadata": {},
   "source": [
    "14. Korišćenjem programskog jezika Python, napisati sledeće funkcije:\n",
    "a. unija, koja prihvata dve liste (bilo kog tipa podataka), a ima povratnu vrednost koja je lista\n",
    "sastavljena od svih elemenata obe liste bez ponavljanja.\n",
    "Primer: unija([5, 4, \"1\", \"8\", 3, 7], [1, 9, \"1\"]) = [5, 4, \"1\", \"8\", 3, 7, 9, 1]"
   ]
  },
  {
   "cell_type": "code",
   "execution_count": 43,
   "metadata": {},
   "outputs": [
    {
     "name": "stdout",
     "output_type": "stream",
     "text": [
      "[3, 4, 5, 7, '1', '8', '1', 1, 9]\n"
     ]
    }
   ],
   "source": [
    "def unija(lista1, lista2):\n",
    "    return list(set(lista1)) + list(set(lista2))\n",
    "\n",
    "print(unija([5, 4, \"1\", \"8\", 3, 7], [1, 9, \"1\"]))"
   ]
  },
  {
   "cell_type": "markdown",
   "metadata": {},
   "source": [
    "15. Korišćenjem programskog jezika Python, napisati sledeće funkcije:\n",
    "a. izdvoji, koja iz zadate liste čiji su elementi liste, izdvaja n-ti element i formira rezultujuću listu, pri\n",
    "čemu je n=0 za prvu podlistu i uvećava se sukcesivno za 1. Ukoliko ne postoji n-ti element u listi\n",
    "vraća se 0.\n",
    "Primer: izdvoji([5, 4, 4], [1, 9, 1], [5, 6], [4, 6, 10, 12]) = [5, 9, 0, 12]"
   ]
  },
  {
   "cell_type": "code",
   "execution_count": 44,
   "metadata": {},
   "outputs": [
    {
     "name": "stdout",
     "output_type": "stream",
     "text": [
      "[5, 9, 0, 12]\n"
     ]
    }
   ],
   "source": [
    "def izdvoji(*liste):\n",
    "    return list(map(lambda lista, i: lista[i] if i < len(lista) else 0, liste, range(len(liste))))\n",
    "\n",
    "print(izdvoji([5, 4, 4], [1, 9, 1], [5, 6], [4, 6, 10, 12]))"
   ]
  }
 ],
 "metadata": {
  "kernelspec": {
   "display_name": "Python 3.10.2 64-bit",
   "language": "python",
   "name": "python3"
  },
  "language_info": {
   "codemirror_mode": {
    "name": "ipython",
    "version": 3
   },
   "file_extension": ".py",
   "mimetype": "text/x-python",
   "name": "python",
   "nbconvert_exporter": "python",
   "pygments_lexer": "ipython3",
   "version": "3.10.2"
  },
  "orig_nbformat": 4,
  "vscode": {
   "interpreter": {
    "hash": "ea778477c0a56e9aa3375ba06ab7163a6011b7a79527965f658c1995a0c80d0f"
   }
  }
 },
 "nbformat": 4,
 "nbformat_minor": 2
}
